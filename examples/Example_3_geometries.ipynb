{
   "cells": [
      {
         "cell_type": "markdown",
         "id": "chinese-isaac",
         "metadata": {},
         "source": [
            "# Example 3\n",
            "\n",
            "This notebook generates events inside the MicroBooNE cryostat."
         ]
      },
      {
         "cell_type": "code",
         "execution_count": null,
         "id": "compact-danger",
         "metadata": {},
         "outputs": [],
         "source": [
            "%load_ext autoreload\n",
            "%autoreload 2"
         ]
      },
      {
         "cell_type": "code",
         "execution_count": null,
         "id": "professional-latitude",
         "metadata": {},
         "outputs": [],
         "source": [
            "import matplotlib.pyplot as plt\n",
            "import numpy as np\n",
            "from scipy.stats import gaussian_kde\n",
            "\n",
            "import DarkNews as dn"
         ]
      },
      {
         "cell_type": "markdown",
         "id": "b95120e3",
         "metadata": {},
         "source": [
            "## Generating events for a few experimental setups\n",
            "\n",
            "We generate them MicroBooNE"
         ]
      },
      {
         "cell_type": "code",
         "execution_count": null,
         "id": "fc5e1894",
         "metadata": {},
         "outputs": [],
         "source": [
            "kwargs = {  \n",
            "        'neval': 1e4,\n",
            "        'HNLtype': 'dirac',\n",
            "        'nopelastic': True,\n",
            "        'pandas': False,\n",
            "        'loglevel': 'WARNING'\n",
            "        }\n",
            "\n",
            "# Generating \n",
            "gen_object = dn.GenLauncher(mzprime=1.25, m4=0.150, experiment='miniboone_fhc', **kwargs)\n",
            "gen_object.run()\n",
            "df1 = gen_object.df\n",
            "\n",
            "gen_object = dn.GenLauncher(mzprime=1.25, m4=0.150, experiment='miniboone_fhc_dirt', **kwargs)\n",
            "gen_object.run()\n",
            "df2 = gen_object.df\n",
            "\n",
            "\n",
            "gen_object = dn.GenLauncher(mzprime=1.25, m4=0.150, experiment='microboone', **kwargs)\n",
            "gen_object.run()\n",
            "df3 = gen_object.df\n",
            "\n",
            "\n",
            "gen_object = dn.GenLauncher(mzprime=1.25, m4=0.150, experiment='microboone_dirt', **kwargs)\n",
            "gen_object.run()\n",
            "df4 = gen_object.df"
         ]
      },
      {
         "cell_type": "code",
         "execution_count": null,
         "id": "5dd2356a",
         "metadata": {},
         "outputs": [],
         "source": [
            "df_mini = dn.MC.get_merged_MC_output(df1, df2)\n",
            "df_micro = dn.MC.get_merged_MC_output(df3, df4)"
         ]
      },
      {
         "cell_type": "markdown",
         "id": "94b57ed5",
         "metadata": {},
         "source": [
            "#### Looking at the geometry of the scattering positions: XY plane"
         ]
      },
      {
         "cell_type": "code",
         "execution_count": null,
         "id": "ac4c7ec7",
         "metadata": {},
         "outputs": [],
         "source": [
            "df_list = [df_mini, df_micro]\n",
            "\n",
            "for i, df in enumerate(df_list):\n",
            "    title = r\"Projection onto XZ plane, Example \" + str(i)\n",
            "    xlabel = r'x/cm'\n",
            "    ylabel = r'y/cm'\n",
            "    \n",
            "    axes_form  =[0.16,0.16,0.81,0.76]\n",
            "    fig = plt.figure(figsize=(3,3))\n",
            "    ax = fig.add_axes(axes_form, rasterized=False)\n",
            "\n",
            "    x = df['pos_scatt', '1']\n",
            "    y = df['pos_scatt', '2']\n",
            "    xy = np.vstack([x, y])\n",
            "    z = gaussian_kde(xy, weights=df['w_event_rate'])(xy)\n",
            "    ax.scatter(x, y, c=z, s=10, edgecolor='None')\n",
            "\n",
            "    ax.set_title(title,   fontsize=12)\n",
            "    ax.set_xlabel(xlabel, fontsize=12)\n",
            "    ax.set_ylabel(ylabel, fontsize=12)"
         ]
      },
      {
         "cell_type": "markdown",
         "id": "958b5752-813f-4346-a502-a054936e8e2b",
         "metadata": {},
         "source": [
            "#### Looking at the geometry of the scattering positions: YZ plane"
         ]
      },
      {
         "cell_type": "code",
         "execution_count": null,
         "id": "91729a95-a916-4596-b1c7-ddaf301063cd",
         "metadata": {},
         "outputs": [],
         "source": [
            "df_list = [df_mini, df_micro]\n",
            "\n",
            "for i, df in enumerate(df_list):\n",
            "    title = r\"Projection onto XZ plane, Example \" + str(i)\n",
            "    xlabel = r'z/cm'\n",
            "    ylabel = r'y/cm'\n",
            "    \n",
            "    axes_form  =[0.16,0.16,0.81,0.76]\n",
            "    fig = plt.figure(figsize=(12,3))\n",
            "    ax = fig.add_axes(axes_form, rasterized=False)\n",
            "\n",
            "    x = df['pos_scatt', '3']\n",
            "    y = df['pos_scatt', '2']\n",
            "    xy = np.vstack([x, y])\n",
            "    z = gaussian_kde(xy, weights=df['w_event_rate'])(xy)\n",
            "    ax.scatter(x, y, c=z, s=10, edgecolor='None')\n",
            "\n",
            "    ax.set_title(title,   fontsize=12)\n",
            "    ax.set_xlabel(xlabel, fontsize=12)\n",
            "    ax.set_ylabel(ylabel, fontsize=12)"
         ]
      },
      {
         "cell_type": "code",
         "execution_count": null,
         "id": "a419d677",
         "metadata": {},
         "outputs": [],
         "source": []
      }
   ],
   "metadata": {
      "kernelspec": {
         "display_name": "Python 3.9.12 ('base')",
         "language": "python",
         "name": "python3"
      },
      "language_info": {
         "codemirror_mode": {
            "name": "ipython",
            "version": 3
         },
         "file_extension": ".py",
         "mimetype": "text/x-python",
         "name": "python",
         "nbconvert_exporter": "python",
         "pygments_lexer": "ipython3",
         "version": "3.11.0"
      },
      "vscode": {
         "interpreter": {
            "hash": "3067ead486e059ec00ffe7555bdb889e6e264a24dc711bf108106cc7baee8d5d"
         }
      }
   },
   "nbformat": 4,
   "nbformat_minor": 5
}
