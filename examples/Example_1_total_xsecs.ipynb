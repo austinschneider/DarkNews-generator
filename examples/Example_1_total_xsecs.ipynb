{
 "cells": [
  {
   "attachments": {},
   "cell_type": "markdown",
   "id": "breeding-basic",
   "metadata": {},
   "source": [
    "# Example 1\n",
    "---\n",
    "\n",
    "This notebook demonstrates how to obtain differential and total cross sections for upscattering processes."
   ]
  },
  {
   "cell_type": "code",
   "execution_count": null,
   "id": "00671c2d",
   "metadata": {},
   "outputs": [],
   "source": [
    "%load_ext autoreload\n",
    "%autoreload 2"
   ]
  },
  {
   "cell_type": "code",
   "execution_count": null,
   "id": "activated-march",
   "metadata": {},
   "outputs": [],
   "source": [
    "import matplotlib.pyplot as plt\n",
    "import numpy as np\n",
    "\n",
    "import DarkNews as dn\n",
    "from DarkNews import pdg\n",
    "\n",
    "import matplotlib.pyplot as plt"
   ]
  },
  {
   "attachments": {},
   "cell_type": "markdown",
   "id": "5e21e347",
   "metadata": {},
   "source": [
    "### 1) First cross checks of NC cross sections\n",
    "\n",
    "Let's check that the `neutral current` cross section behaves like the SM one in the low-energy limit. We compare our Z exchange xsec with the total neutrino xsecs (file taken from GLoBES, refs: Messier:1999kj, Paschos:2001np)\n",
    "\n",
    "We currently do not have the DIS regime included, so we expect agreement only at the lowest energies.\n",
    "\n",
    "--- \n",
    "We start by defining an instance of a model with no additional new physics on top of the minimal HNL model (only nu-N mixing).\n",
    "\n",
    "Then we define instances of XsecCalc, which is our xsec calculator object. They can compute differential cross sections (in Q^2) or total cross sections (integrated with Vegas). We are interested in the latter here.\n"
   ]
  },
  {
   "cell_type": "code",
   "execution_count": null,
   "id": "indoor-vermont",
   "metadata": {},
   "outputs": [],
   "source": [
    "# targets\n",
    "proton = dn.NuclearTarget(\"H1\")\n",
    "C12    = dn.NuclearTarget(\"C12\")\n",
    "Ar40   = dn.NuclearTarget(\"Ar40\")"
   ]
  },
  {
   "cell_type": "code",
   "execution_count": null,
   "id": "4178eff0",
   "metadata": {},
   "outputs": [],
   "source": [
    "# model\n",
    "NC_test   = dn.model.ThreePortalModel(name='NC_test', m4 = 0.001, Umu4=1e-3, epsilon=0.0, gD=0.0)\n",
    "\n",
    "# xsec calculators\n",
    "common_kwargs = {'nu_projectile': pdg.numu, 'nu_upscattered': pdg.neutrino4, 'helicity': 'conserving', 'nuclear_target': C12}\n",
    "calc_NC_coh   = dn.UpscatteringProcess(TheoryModel = NC_test, scattering_regime = 'coherent', **common_kwargs) \n",
    "calc_NC_pel   = dn.UpscatteringProcess(TheoryModel = NC_test, scattering_regime = 'p-el', **common_kwargs) \n",
    "calc_NC_nel   = dn.UpscatteringProcess(TheoryModel = NC_test, scattering_regime = 'n-el', **common_kwargs) \n",
    "\n",
    "# calculating them\n",
    "Enu_range = np.geomspace(0.01,2e2,50)\n",
    "xsecs_NC = (calc_NC_coh.total_xsec(Enu_range, NEVAL=1000, NINT=10), \n",
    "            calc_NC_pel.total_xsec(Enu_range, NEVAL=1000, NINT=10),\n",
    "            calc_NC_nel.total_xsec(Enu_range, NEVAL=1000, NINT=10))\n"
   ]
  },
  {
   "cell_type": "code",
   "execution_count": null,
   "id": "039a4a21",
   "metadata": {},
   "outputs": [],
   "source": [
    "maj_test   = dn.model.ThreePortalModel(name='maj_test', m4 = 0.2, Umu4=np.sqrt(2.2e-7), epsilon2=4.6e-4, alphaD=0.4, UD4=1, HNLtype='majorana', mzprime=1.25)\n",
    "dir_test   = dn.model.ThreePortalModel(name='dirac_test', m4 = 0.2, Umu4=np.sqrt(2.2e-7), epsilon2=4.6e-4, alphaD=0.4, UD4=1, HNLtype='dirac', mzprime=1.25)\n",
    "\n",
    "calc_maj_coh   = dn.UpscatteringProcess(TheoryModel = maj_test, scattering_regime = 'coherent', **common_kwargs) \n",
    "calc_dir_coh   = dn.UpscatteringProcess(TheoryModel = dir_test, scattering_regime = 'coherent', **common_kwargs) \n",
    "\n",
    "print(f'maj: tot_sigma = {calc_maj_coh.total_xsec(Enu=1.0, NEVAL=1000, NINT=10)}')\n",
    "print(f'dir: tot_sigma = {calc_dir_coh.total_xsec(Enu=1.0, NEVAL=1000, NINT=10)}')\n"
   ]
  },
  {
   "cell_type": "code",
   "execution_count": null,
   "id": "be5ae691",
   "metadata": {},
   "outputs": [],
   "source": [
    "q2=np.geomspace(1e-3,1,1000)\n",
    "\n",
    "fig, ax = dn.plot_tools.std_fig(figsize=(6,3))\n",
    "\n",
    "ax.plot(q2,calc_maj_coh.diff_xsec_Q2(1,q2, diagrams=['total']),label='majorana', lw=2)\n",
    "ax.plot(q2,calc_dir_coh.diff_xsec_Q2(1,q2, diagrams=['total']),ls='--',label='dirac', lw=2)\n",
    "ax.set_yscale(\"log\")\n",
    "ax.set_xscale(\"log\")\n",
    "ax.set_xlabel(r\"$Q^2$/GeV$^2$\")\n",
    "ax.set_ylabel(r\"$d\\sigma/dQ^2$ (cm$^2$)\")"
   ]
  },
  {
   "attachments": {},
   "cell_type": "markdown",
   "id": "12afba7e",
   "metadata": {},
   "source": [
    "Now we see that the NC scattering on neutrons matches the one obtained from GLoBES reasonably well, except at high energies, where the DIS cross section, which we do not model, dominates."
   ]
  },
  {
   "cell_type": "code",
   "execution_count": null,
   "id": "69699477",
   "metadata": {},
   "outputs": [],
   "source": [
    "# create fig\n",
    "fig, ax = dn.plot_tools.std_fig(ax_form=[0.15,0.15,0.83,0.74], figsize=(5,4))\n",
    "\n",
    "dn_logo = r\"{\\footnotesize \\textsc{DN}}\"\n",
    "ax.plot(Enu_range, 1e6*xsecs_NC[0], label=rf\"coherent {dn_logo}\", c='orange')\n",
    "ax.plot(Enu_range, 1e6*xsecs_NC[2]*6, ls='--', label=rf\"n-elastic {dn_logo}\", c='orange')\n",
    "ax.plot(Enu_range, 1e6*xsecs_NC[1]*6, ls=':', label=rf\"p-elastic {dn_logo}\", c='orange')\n",
    "\n",
    "# GLoBES file\n",
    "# loge, *sigma = np.genfromtxt(\"aux_data/XNC.dat\", unpack=True)\n",
    "# enu = 10**loge\n",
    "# ax.plot(enu, sigma[1]*1e-38*enu*12, c='black', label=r'$\\sigma_{\\rm NC}^{\\rm tot}$ (GLoBEs)')\n",
    "\n",
    "ax.set_xscale(\"log\")\n",
    "ax.set_yscale(\"log\")\n",
    "ax.legend(frameon=False, loc='upper right')\n",
    "ax.set_xlim(min(Enu_range), max(Enu_range))\n",
    "ax.set_ylim(1e-41,1e-35)\n",
    "leg = ax.legend(frameon=False, loc = \"upper left\", title=r'Benchmarks')\n",
    "ax.set_xlabel(r'$E_\\nu$/GeV')\n",
    "ax.set_ylabel(r'$\\sigma$/cm$^2$/Carbon')\n",
    "\n",
    "dn.plot_tools.std_savefig(fig, \"plots/example_2_xsec_NC.pdf\",dpi=400)"
   ]
  },
  {
   "attachments": {},
   "cell_type": "markdown",
   "id": "4a20e8af",
   "metadata": {},
   "source": [
    "### 2) Now we compare different new physics models\n",
    "\n",
    "We will focus on a couple of benchmark models:\n",
    "\n",
    "* Vergano et al BP __[2105.06470](arxiv.org/abs/2105.06470)__\n",
    "\n",
    "* Bertuzzo et al BP __[1807.09877](arxiv.org/abs/1807.09877)__\n",
    "\n",
    "* Ballett et al BP __[1903.07589](arxiv.org/abs/1903.07589)__\n",
    "\n",
    "* Abdullahi et al BP __[2007.11813](arxiv.org/abs/2007.11813)__\n",
    "\n",
    "* Abdallah et al BP __[2202.09373](arxiv.org/abs/2202.09373)__"
   ]
  },
  {
   "cell_type": "code",
   "execution_count": null,
   "id": "09bddee2",
   "metadata": {},
   "outputs": [],
   "source": [
    "# create models\n",
    "vergani_et_al   = dn.model.ThreePortalModel(name='vergani_et_al', m4 = 0.200, Umu4=0.0, epsilon=0.0, mu_tr_mu4=4e-7)\n",
    "bertuzzo_et_al  = dn.model.ThreePortalModel(name='bertuzzo_et_al', m4 = 0.420, Umu4=np.sqrt(9e-7), Umu5=0.0, UD5=0.0, alpha_epsilon2=2e-10, alphaD=0.25, mzprime=0.03)\n",
    "ballett_et_al   = dn.model.ThreePortalModel(name='ballett_et_al', m5 = 0.150, m4 = 0.107, mzprime=1.25,\n",
    "                                                            Umu4=np.sqrt(1.5e-6), Umu5=np.sqrt(0.85e-6), \n",
    "                                                            UD5=np.sqrt(4/11), UD4=np.sqrt(7/11), \n",
    "                                                            chi=np.sqrt(1e-5), gD=2)\n",
    "abdullahi_et_al = dn.model.ThreePortalModel(name='abdullahi_et_al', m4=0.074, m5 = 0.146, Umu4=0, UD4=0, UD5=1.0, Umu5=np.sqrt(3e-7), alphaD=0.3, epsilon=2.2e-2, mzprime=1.25)\n",
    "abdallah_et_al = dn.model.ThreePortalModel(name='abdallah_et_al', m4=0.074, m5 = 0.146, Umu4=0, UD4=0, UD5=1.0, Umu5=np.sqrt(3e-7), alphaD=0.3, epsilon=2.2e-2, mzprime=1.25)\n",
    "scalar_l   = dn.model.ThreePortalModel(name='light scalar', m4 = 0.200, s_mu4=1e-3, Umu4=0.0, theta=1e-3, mhprime=0.03, epsilon=0.0, gD=0.0)\n",
    "\n",
    "# dipole interaction flips helicity while dark photon conserves it -- the other helicity channel can be computed, but will be subdominant.\n",
    "common_kwargs = {'nu_projectile': pdg.numu, 'scattering_regime': 'coherent', 'nuclear_target': C12}\n",
    "calculator_vergani   = dn.UpscatteringProcess(TheoryModel = vergani_et_al, helicity = 'flipping', nu_upscattered=vergani_et_al.neutrino4, **common_kwargs) \n",
    "calculator_bertuzzo  = dn.UpscatteringProcess(TheoryModel = bertuzzo_et_al, helicity = 'conserving', nu_upscattered=bertuzzo_et_al.neutrino4, **common_kwargs)\n",
    "calculator_ballett   = dn.UpscatteringProcess(TheoryModel = ballett_et_al, helicity = 'conserving', nu_upscattered=ballett_et_al.neutrino5, **common_kwargs)\n",
    "calculator_abdullahi = dn.UpscatteringProcess(TheoryModel = abdullahi_et_al, helicity = 'conserving', nu_upscattered=abdullahi_et_al.neutrino5, **common_kwargs)\n",
    "calculator_abdallah = dn.UpscatteringProcess(TheoryModel = abdallah_et_al, helicity = 'flipping', nu_upscattered=abdallah_et_al.neutrino5, **common_kwargs)\n",
    "\n",
    "common_kwargs = {'nu_projectile': pdg.numu, 'scattering_regime': 'p-el', 'nuclear_target': C12}\n",
    "calculator_vergani_pel   = dn.UpscatteringProcess(TheoryModel = vergani_et_al, helicity = 'flipping',     nu_upscattered=vergani_et_al.neutrino4, **common_kwargs) \n",
    "calculator_bertuzzo_pel  = dn.UpscatteringProcess(TheoryModel = bertuzzo_et_al, helicity = 'conserving',  nu_upscattered=bertuzzo_et_al.neutrino4, **common_kwargs)\n",
    "calculator_ballett_pel   = dn.UpscatteringProcess(TheoryModel = ballett_et_al, helicity = 'conserving',   nu_upscattered=ballett_et_al.neutrino5, **common_kwargs)\n",
    "calculator_abdullahi_pel = dn.UpscatteringProcess(TheoryModel = abdullahi_et_al, helicity = 'conserving', nu_upscattered=abdullahi_et_al.neutrino5, **common_kwargs)\n",
    "calculator_abdallah_pel = dn.UpscatteringProcess(TheoryModel = abdallah_et_al, helicity = 'conserving', nu_upscattered=abdallah_et_al.neutrino5, **common_kwargs)"
   ]
  },
  {
   "cell_type": "code",
   "execution_count": null,
   "id": "5bb9a649",
   "metadata": {},
   "outputs": [],
   "source": [
    "Enu_range=np.linspace(0,2,50)\n",
    "\n",
    "vergani = (calculator_vergani.total_xsec(Enu_range, NEVAL=1000, NINT=10), calculator_vergani_pel.total_xsec(Enu_range, NEVAL=1000, NINT=10))\n",
    "bertuzzo = (calculator_bertuzzo.total_xsec(Enu_range, NEVAL=1000, NINT=10), calculator_bertuzzo_pel.total_xsec(Enu_range, NEVAL=1000, NINT=10))\n",
    "ballett = (calculator_ballett.total_xsec(Enu_range, NEVAL=1000, NINT=10), calculator_ballett_pel.total_xsec(Enu_range, NEVAL=1000, NINT=10))\n",
    "abdullahi = (calculator_abdullahi.total_xsec(Enu_range, NEVAL=1000, NINT=10), calculator_abdullahi_pel.total_xsec(Enu_range, NEVAL=1000, NINT=10))\n"
   ]
  },
  {
   "cell_type": "code",
   "execution_count": null,
   "id": "b187f716",
   "metadata": {},
   "outputs": [],
   "source": [
    "fig, ax = dn.plot_tools.std_fig(ax_form=[0.1,0.15,0.88,0.74], figsize=(5,3.6))\n",
    "\n",
    "l1,= ax.plot(Enu_range, vergani[0], label=calculator_vergani.TheoryModel.name.replace(\"_\",\" \"), c='orange')\n",
    "l2,= ax.plot(Enu_range, bertuzzo[0], label=calculator_bertuzzo.TheoryModel.name.replace(\"_\",\" \"), c='purple')\n",
    "l3,= ax.plot(Enu_range, ballett[0], label=calculator_ballett.TheoryModel.name.replace(\"_\",\" \"), c='deeppink')\n",
    "l4,= ax.plot(Enu_range, abdullahi[0], label=calculator_abdullahi.TheoryModel.name.replace(\"_\",\" \"), c='dodgerblue')\n",
    "\n",
    "ax.plot(Enu_range, vergani[1], ls='--', c='orange')\n",
    "ax.plot(Enu_range, bertuzzo[1], ls='--', c='purple')\n",
    "ax.plot(Enu_range, ballett[1], ls='--', c='deeppink')\n",
    "ax.plot(Enu_range, abdullahi[1], ls='--', c='dodgerblue')\n",
    "\n",
    "# ax.set_xscale(\"log\")\n",
    "ax.set_yscale(\"log\")\n",
    "ax.legend(frameon=False, loc='upper right')\n",
    "ax.set_xlim(min(Enu_range), max(Enu_range))\n",
    "# ax.set_ylim(1e-42,5e-38)\n",
    "\n",
    "\n",
    "proxy, = plt.plot([0,0],[0,0],linestyle='-',color='black')\n",
    "proxy2, = plt.plot([0,0],[0,0],linestyle='--',color='black')\n",
    "leg = ax.legend(handles=[l1,l2,l3,l4], frameon=False, loc = \"lower center\", title=r'Benchmarks')\n",
    "leg2 = ax.legend([proxy,proxy2], [r\"coherent\",r\"p-elastic\"], frameon=False, loc = \"lower right\", title=r'Scatt regime')\n",
    "ax.add_artist(leg)\n",
    "\n",
    "\n",
    "ax.set_xlabel(r'$E_\\nu$/GeV')\n",
    "ax.set_ylabel(r'$\\sigma$/cm$^2$/Carbon')\n",
    "\n",
    "plt.savefig(\"plots/example_2_xsec.pdf\",dpi=400)"
   ]
  },
  {
   "cell_type": "code",
   "execution_count": null,
   "id": "274bb137",
   "metadata": {},
   "outputs": [],
   "source": [
    "# create models\n",
    "dipole   = dn.model.ThreePortalModel(name='dipole', m4 = 0.200, mu_tr_mu4=1e-6)\n",
    "vector_h   = dn.model.ThreePortalModel(name='heavy vector', m4 = 0.200, epsilon=1e-3, Umu4=1e-3, mzprime=1.25)\n",
    "vector_l   = dn.model.ThreePortalModel(name='light vector', m4 = 0.200, epsilon=1e-3, Umu4=1e-3, mzprime=0.03)\n",
    "scalar_h   = dn.model.ThreePortalModel(name='heavy scalar', m4 = 0.200, s_mu4=1e-3, Umu4=0.0, theta=1e-3, mhprime=1.25, epsilon=0.0, gD=0.0)\n",
    "scalar_l   = dn.model.ThreePortalModel(name='light scalar', m4 = 0.200, s_mu4=1e-3, Umu4=0.0, theta=1e-3, mhprime=0.03, epsilon=0.0, gD=0.0)\n",
    "\n",
    "# dipole interaction flips helicity while dark photon conserves it -- the other helicity channel can be computed, but will be subdominant.\n",
    "common_kwargs = {'nu_projectile': pdg.numu, 'scattering_regime': 'coherent', 'nuclear_target': C12}\n",
    "calculator_dipole   = dn.UpscatteringProcess(TheoryModel = dipole, nu_upscattered=dipole.neutrino4, helicity = 'flipping', **common_kwargs)  \n",
    "calculator_vector_h  = dn.UpscatteringProcess(TheoryModel = vector_h, nu_upscattered=vector_h.neutrino4, helicity = 'conserving',  **common_kwargs) \n",
    "calculator_vector_l   = dn.UpscatteringProcess(TheoryModel = vector_l, nu_upscattered=vector_l.neutrino4, helicity = 'conserving', **common_kwargs) \n",
    "calculator_scalar_h = dn.UpscatteringProcess(TheoryModel = scalar_h, nu_upscattered=scalar_h.neutrino4, helicity = 'flipping', **common_kwargs) \n",
    "calculator_scalar_l = dn.UpscatteringProcess(TheoryModel = scalar_l, nu_upscattered=scalar_l.neutrino4, helicity = 'flipping', **common_kwargs) \n",
    "\n",
    "common_kwargs['scattering_regime'] = 'p-el'\n",
    "calculator_dipole_pel   = dn.UpscatteringProcess(TheoryModel = dipole, nu_upscattered=dipole.neutrino4, helicity = 'flipping', **common_kwargs) \n",
    "calculator_vector_h_pel  = dn.UpscatteringProcess(TheoryModel = vector_h, nu_upscattered=vector_h.neutrino4, helicity = 'conserving',  **common_kwargs)\n",
    "calculator_vector_l_pel   = dn.UpscatteringProcess(TheoryModel = vector_l, nu_upscattered=vector_l.neutrino4, helicity = 'conserving', **common_kwargs)\n",
    "calculator_scalar_h_pel = dn.UpscatteringProcess(TheoryModel = scalar_h, nu_upscattered=scalar_h.neutrino4, helicity = 'flipping', **common_kwargs)\n",
    "calculator_scalar_l_pel = dn.UpscatteringProcess(TheoryModel = scalar_l, nu_upscattered=scalar_l.neutrino4, helicity = 'flipping', **common_kwargs)"
   ]
  },
  {
   "cell_type": "code",
   "execution_count": null,
   "id": "bb65f1b5",
   "metadata": {},
   "outputs": [],
   "source": [
    "# dipole interaction flips helicity while dark photon conserves it -- the other helicity channel can be computed, but will be subdominant.\n",
    "common_kwargs = {'nu_projectile': pdg.numu, 'scattering_regime': 'coherent', 'nuclear_target': C12}\n",
    "calculator_dipole_subd   = dn.UpscatteringProcess(TheoryModel = dipole, nu_upscattered=dipole.neutrino4, helicity = 'conserving', **common_kwargs)  \n",
    "calculator_vector_h_subd  = dn.UpscatteringProcess(TheoryModel = vector_h, nu_upscattered=vector_h.neutrino4, helicity = 'flipping',  **common_kwargs) \n",
    "calculator_vector_l_subd   = dn.UpscatteringProcess(TheoryModel = vector_l, nu_upscattered=vector_l.neutrino4, helicity = 'flipping', **common_kwargs) \n",
    "calculator_scalar_h_subd = dn.UpscatteringProcess(TheoryModel = scalar_h, nu_upscattered=scalar_h.neutrino4, helicity = 'conserving', **common_kwargs) \n",
    "calculator_scalar_l_subd = dn.UpscatteringProcess(TheoryModel = scalar_l, nu_upscattered=scalar_l.neutrino4, helicity = 'conserving', **common_kwargs) \n",
    "\n",
    "common_kwargs['scattering_regime'] = 'p-el'\n",
    "calculator_dipole_pel_subd   = dn.UpscatteringProcess(TheoryModel = dipole, nu_upscattered=dipole.neutrino4, helicity = 'conserving', **common_kwargs) \n",
    "calculator_vector_h_pel_subd  = dn.UpscatteringProcess(TheoryModel = vector_h, nu_upscattered=vector_h.neutrino4, helicity = 'flipping',  **common_kwargs)\n",
    "calculator_vector_l_pel_subd   = dn.UpscatteringProcess(TheoryModel = vector_l, nu_upscattered=vector_l.neutrino4, helicity = 'flipping', **common_kwargs)\n",
    "calculator_scalar_h_pel_subd = dn.UpscatteringProcess(TheoryModel = scalar_h, nu_upscattered=scalar_h.neutrino4, helicity = 'conserving', **common_kwargs)\n",
    "calculator_scalar_l_pel_subd = dn.UpscatteringProcess(TheoryModel = scalar_l, nu_upscattered=scalar_l.neutrino4, helicity = 'conserving', **common_kwargs)"
   ]
  },
  {
   "cell_type": "code",
   "execution_count": null,
   "id": "00b7e894",
   "metadata": {},
   "outputs": [],
   "source": [
    "Enu_range=np.linspace(0,2,200)\n",
    "\n",
    "# dominant\n",
    "dipole_xs = (calculator_dipole.total_xsec(Enu_range, NEVAL=1000, NINT=10), calculator_dipole_pel.total_xsec(Enu_range, NEVAL=1000, NINT=10))\n",
    "vector_h_xs = (calculator_vector_h.total_xsec(Enu_range, NEVAL=1000, NINT=10), calculator_vector_h_pel.total_xsec(Enu_range, NEVAL=1000, NINT=10))\n",
    "vector_l_xs = (calculator_vector_l.total_xsec(Enu_range, NEVAL=1000, NINT=10), calculator_vector_l_pel.total_xsec(Enu_range, NEVAL=1000, NINT=10))\n",
    "scalar_h_xs = (calculator_scalar_h.total_xsec(Enu_range, NEVAL=1000, NINT=10), calculator_scalar_h_pel.total_xsec(Enu_range, NEVAL=1000, NINT=10))\n",
    "scalar_l_xs = (calculator_scalar_l.total_xsec(Enu_range, NEVAL=1000, NINT=10), calculator_scalar_l_pel.total_xsec(Enu_range, NEVAL=1000, NINT=10))\n"
   ]
  },
  {
   "cell_type": "code",
   "execution_count": null,
   "id": "aa0ac6fb",
   "metadata": {},
   "outputs": [],
   "source": [
    "# sub-dominant\n",
    "dipole_xs_subd = (calculator_dipole_subd.total_xsec(Enu_range, NEVAL=1000, NINT=10), calculator_dipole_pel_subd.total_xsec(Enu_range, NEVAL=1000, NINT=10))\n",
    "vector_h_xs_subd = (calculator_vector_h_subd.total_xsec(Enu_range, NEVAL=1000, NINT=10), calculator_vector_h_pel_subd.total_xsec(Enu_range, NEVAL=1000, NINT=10))\n",
    "vector_l_xs_subd = (calculator_vector_l_subd.total_xsec(Enu_range, NEVAL=1000, NINT=10), calculator_vector_l_pel_subd.total_xsec(Enu_range, NEVAL=1000, NINT=10))\n",
    "scalar_h_xs_subd = (calculator_scalar_h_subd.total_xsec(Enu_range, NEVAL=1000, NINT=10), calculator_scalar_h_pel_subd.total_xsec(Enu_range, NEVAL=1000, NINT=10))\n",
    "scalar_l_xs_subd = (calculator_scalar_l_subd.total_xsec(Enu_range, NEVAL=1000, NINT=10), calculator_scalar_l_pel_subd.total_xsec(Enu_range, NEVAL=1000, NINT=10))\n"
   ]
  },
  {
   "cell_type": "code",
   "execution_count": null,
   "id": "863e0665",
   "metadata": {},
   "outputs": [],
   "source": [
    "fig, ax = dn.plot_tools.std_fig(ax_form=[0.2,0.15,0.75,0.74], figsize=(5,3.6))\n",
    "\n",
    "\n",
    "l2,= ax.plot(Enu_range, (vector_h_xs[0]+vector_h_xs_subd[0])/np.max(vector_h_xs+vector_h_xs_subd), label=vector_h.name.replace(\"_\",\" \"), c='deeppink')\n",
    "l4,= ax.plot(Enu_range, (scalar_h_xs[0]+scalar_h_xs_subd[0])/np.max(scalar_h_xs+scalar_h_xs_subd), label=scalar_h.name.replace(\"_\",\" \"), c='dodgerblue')\n",
    "\n",
    "ax.plot(Enu_range, vector_h_xs[1]/np.max(vector_h_xs), ls='--', c='deeppink')\n",
    "ax.plot(Enu_range, scalar_h_xs[1]/np.max(scalar_h_xs), ls='--', c='dodgerblue')\n",
    "\n",
    "\n",
    "# ax.set_xscale(\"log\")\n",
    "ax.set_yscale(\"log\")\n",
    "ax.legend(frameon=False, loc='upper right')\n",
    "ax.set_xlim(min(Enu_range), max(Enu_range))\n",
    "ax.set_ylim(1e-2,2)\n",
    "\n",
    "\n",
    "proxy, = plt.plot([0,0],[0,0],linestyle='-',color='black')\n",
    "proxy2, = plt.plot([0,0],[0,0],linestyle='--',color='black')\n",
    "leg = ax.legend(handles=[l2,l4], frameon=False, loc = (0.2,0.025), title=r'')\n",
    "leg2 = ax.legend([proxy,proxy2], [r\"coherent\",r\"p-elastic\"], frameon=False, loc = (0.7,0.25), title=r'Scatt regime')\n",
    "ax.add_artist(leg)\n",
    "ax.set_title(r\"Normalized cross sections for heavy mediators\")\n",
    "\n",
    "\n",
    "ax.set_xlabel(r'$E_\\nu$/GeV')\n",
    "ax.set_ylabel(r'$(\\sigma/\\sigma^{\\rm max}_{\\rm total}$) on Carbon')\n",
    "\n",
    "dn.plot_tools.std_savefig(fig, \"plots/example_2_xsec_int_type_heavy.png\",dpi=400)\n",
    "dn.plot_tools.std_savefig(fig, \"plots/example_2_xsec_int_type_heavy.pdf\",dpi=400)"
   ]
  },
  {
   "cell_type": "code",
   "execution_count": null,
   "id": "e6ae8b79",
   "metadata": {},
   "outputs": [],
   "source": [
    "fig, ax = dn.plot_tools.std_fig(ax_form=[0.2,0.15,0.75,0.74], figsize=(5,3.6))\n",
    "\n",
    "l1,= ax.plot(Enu_range, (dipole_xs[0]+dipole_xs_subd[0])/np.max(dipole_xs+dipole_xs_subd), label=dipole.name.replace(\"_\",\" \"), c='orange')\n",
    "l3,= ax.plot(Enu_range, (vector_l_xs[0]+vector_l_xs_subd[0])/np.max(vector_l_xs+vector_l_xs_subd), label=vector_l.name.replace(\"_\",\" \"), c='deeppink')\n",
    "l5,= ax.plot(Enu_range, (scalar_l_xs[0]+scalar_l_xs_subd[0])/np.max(scalar_l_xs+scalar_l_xs_subd), label=scalar_l.name.replace(\"_\",\" \"), c='dodgerblue')\n",
    "\n",
    "ax.plot(Enu_range, (dipole_xs[1]+dipole_xs_subd[1])/np.max(dipole_xs+dipole_xs), ls='--', c='orange')\n",
    "ax.plot(Enu_range, (vector_l_xs[1]+vector_l_xs_subd[1])/np.max(vector_l_xs+vector_l_xs), ls='--', c='deeppink')\n",
    "ax.plot(Enu_range, (scalar_l_xs[1]+scalar_l_xs_subd[1])/np.max(scalar_l_xs+scalar_l_xs), ls='--', c='dodgerblue')\n",
    "\n",
    "# ax.set_xscale(\"log\")\n",
    "ax.set_yscale(\"log\")\n",
    "ax.legend(frameon=False, loc='upper right')\n",
    "ax.set_xlim(min(Enu_range), max(Enu_range))\n",
    "ax.set_ylim(1e-2,2)\n",
    "\n",
    "\n",
    "proxy, = plt.plot([0,0],[0,0],linestyle='-',color='black')\n",
    "proxy2, = plt.plot([0,0],[0,0],linestyle='--',color='black')\n",
    "leg = ax.legend(handles=[l1,l3,l5], frameon=False, loc = (0.2,0.025), title=r'')\n",
    "leg2 = ax.legend([proxy,proxy2], [r\"coherent\",r\"p-elastic\"], frameon=False, loc = (0.7,0.15), title=r'Scatt regime')\n",
    "ax.add_artist(leg)\n",
    "ax.set_title(r\"Normalized cross sections for light mediators\")\n",
    "\n",
    "ax.set_xlabel(r'$E_\\nu$/GeV')\n",
    "ax.set_ylabel(r'$(\\sigma/\\sigma^{\\rm max}_{\\rm total}$) on Carbon')\n",
    "\n",
    "dn.plot_tools.std_savefig(fig, \"plots/example_2_xsec_int_type_light.png\",dpi=400)\n",
    "dn.plot_tools.std_savefig(fig, \"plots/example_2_xsec_int_type_light.pdf\",dpi=400)"
   ]
  },
  {
   "attachments": {},
   "cell_type": "markdown",
   "id": "134a0137",
   "metadata": {},
   "source": [
    "## More cross sections\n",
    "\n",
    "Now one can compute cross sections for a series of models and targets. The\n",
    "\n",
    "Below, we define a function that computes several examples."
   ]
  },
  {
   "cell_type": "code",
   "execution_count": null,
   "id": "solved-desire",
   "metadata": {},
   "outputs": [],
   "source": [
    "def compute_xsecs(m4, mzprime, **kwargs):\n",
    "   \n",
    "    #########################\n",
    "    # Set BSM parameters\n",
    "    bsm_model = dn.model.ThreePortalModel(mzprime=mzprime, m4 = m4, **kwargs)\n",
    "    \n",
    "    TARGETS = [proton, C12, Ar40]\n",
    "    REGIMES = ['coherent','p-el']\n",
    "    HEL_CASES = ['conserving','flipping']\n",
    "\n",
    "    myMCs = {}\n",
    "    for target in TARGETS:\n",
    "        for regime in REGIMES:\n",
    "            for hel in HEL_CASES:\n",
    "                key = f'{target.name}_{hel}_{regime}'\n",
    "                myMCs[key] = dn.UpscatteringProcess(  \n",
    "                    TheoryModel = bsm_model, \n",
    "                    nu_projectile=pdg.numu,\n",
    "                    nu_upscattered=pdg.neutrino4,\n",
    "                    scattering_regime = regime,\n",
    "                    nuclear_target= target,\n",
    "                    helicity = hel)\n",
    "\n",
    "    mc_lowT=myMCs['Ar40_conserving_coherent']\n",
    "\n",
    "    enu_axis = np.geomspace(mc_lowT.Ethreshold*0.99, 20, 10)\n",
    "    np.append(mc_lowT.Ethreshold*1.01, enu_axis)\n",
    "    sigmas = {}\n",
    "    for key, mc in myMCs.items():\n",
    "        sigmas[key] = []\n",
    "        print(key)\n",
    "        sigmas[key] = mc.total_xsec(enu_axis)\n",
    "        mc.sigmas = sigmas[key]\n",
    "        mc.enu_axis = enu_axis\n",
    "    return myMCs"
   ]
  },
  {
   "cell_type": "code",
   "execution_count": null,
   "id": "compound-breach",
   "metadata": {
    "scrolled": true
   },
   "outputs": [],
   "source": [
    "mcs_H_150 = compute_xsecs(0.150, 1.25, HNLtype=\"majorana\")\n",
    "mcs_H_420 = compute_xsecs(0.420, 1.25, HNLtype=\"majorana\")\n",
    "mcs_L_150 = compute_xsecs(0.150, 0.03, HNLtype=\"majorana\")\n",
    "mcs_L_420 = compute_xsecs(0.420, 0.03, HNLtype=\"majorana\")"
   ]
  },
  {
   "cell_type": "code",
   "execution_count": null,
   "id": "desirable-developer",
   "metadata": {
    "scrolled": true
   },
   "outputs": [],
   "source": [
    "def fix_label(label):\n",
    "    return label.replace(\"_\", \" \").replace(\"conserving\", \"HC\").replace(\"coherent\", \"coh\").replace(\"flipping\", \"HF\")\n",
    "\n",
    "def plot_xsecs(theseMCs, regime = 'coherent'):\n",
    "    fig, ax = dn.plot_tools.std_fig(figsize=(6,4))\n",
    "\n",
    "    all_args={\n",
    "            f'H1_conserving_{regime}': {'color': 'black', 'ls': '-'},\n",
    "            f'C12_conserving_{regime}': {'color': 'royalblue', 'ls': '-'},\n",
    "            f'Ar40_conserving_{regime}': {'color': 'violet', 'ls': '-'},\n",
    "            f'H1_flipping_{regime}': {'color': 'black', 'ls': '--'},\n",
    "            f'C12_flipping_{regime}': {'color': 'royalblue', 'ls': '--'},\n",
    "            f'Ar40_flipping_{regime}': {'color': 'violet', 'ls': '--'},\n",
    "            }    \n",
    "    \n",
    "    for key, mc in theseMCs.items():\n",
    "        if regime in key:\n",
    "            if regime == 'coherent' and \"H1\" in key:\n",
    "                continue\n",
    "            else:\n",
    "                sigmas = mc.sigmas\n",
    "                enu_axis = np.geomspace(mc.Ethreshold*0.99, 20, len(sigmas))\n",
    "\n",
    "                ls = '-' if ('conserving' in key) else '--'\n",
    "                args = all_args[key]\n",
    "                p = mc.TheoryModel\n",
    "                norm = (p.Umu4*p.epsilon*dn.const.eQED*p.gD*p.UD4*mc.target.Z)**2\n",
    "#                 print(norm/(mc.Vij**2*mc.ups_case.Vhad**2))\n",
    "                # if 'conserving' in key:\n",
    "                ax.plot(enu_axis, sigmas/norm, label=fix_label(key), **args)\n",
    "                # else:\n",
    "                #     ax.plot(enu_axis, sigmas/norm, **args)\n",
    "\n",
    "    ax.set_title(fr'$m_{{Z^\\prime}}= {mc.mzprime:.2f}$ GeV,  $m_4 = {mc.m_ups*1e3:.0f}$ MeV')\n",
    "    ax.set_yscale(\"log\")\n",
    "    # ax.set_xscale(\"log\")\n",
    "\n",
    "    ax.set_xlabel(r\"$E_\\nu$ (GeV)\")\n",
    "    ax.set_ylabel(r\"$\\sigma/(Z e \\epsilon V_{\\mu 4})^2$ (cm$^2$)\", fontsize=12)\n",
    "    ax.set_xlim(0.1,np.max(enu_axis))\n",
    "#     ax.set_ylim(1e-34,1e-26)\n",
    "\n",
    "    ax.legend(loc=\"best\", frameon=False)\n",
    "    ax.grid(which='major', lw=0.5)\n",
    "\n",
    "    # dn.plot_tools.std_savefig(fig, f\"plots/xsecs/example_3+1_{mc.ups_case.mzprime:.2f}_{mc.ups_case.m_ups*1e3:.0f}_{regime}.pdf\")"
   ]
  },
  {
   "cell_type": "code",
   "execution_count": null,
   "id": "portuguese-driver",
   "metadata": {
    "scrolled": true
   },
   "outputs": [],
   "source": [
    "plot_xsecs(mcs_H_150, regime = 'coherent')\n",
    "plot_xsecs(mcs_H_150, regime = 'p-el')\n",
    " \n",
    "plot_xsecs(mcs_H_420, regime = 'coherent')\n",
    "plot_xsecs(mcs_H_420, regime = 'p-el')\n",
    " \n",
    "plot_xsecs(mcs_L_150, regime = 'coherent')\n",
    "plot_xsecs(mcs_L_150, regime = 'p-el')\n",
    " \n",
    "plot_xsecs(mcs_L_420, regime = 'coherent')\n",
    "plot_xsecs(mcs_L_420, regime = 'p-el')"
   ]
  },
  {
   "attachments": {},
   "cell_type": "markdown",
   "id": "chief-concentration",
   "metadata": {},
   "source": [
    "#### Differential cross section"
   ]
  },
  {
   "cell_type": "code",
   "execution_count": null,
   "id": "synthetic-associate",
   "metadata": {},
   "outputs": [],
   "source": [
    "from DarkNews import phase_space as ps\n",
    "Enu = 2\n",
    "fig, ax = dn.plot_tools.std_fig(ax_form=[0.1,0.15,0.88,0.74], figsize=(10,7))\n",
    "def plot_diff_xsec_Q2(MCs, Enu):\n",
    "    \n",
    "    for key, mc in MCs.items():\n",
    "        Q2range=np.geomspace(ps.upscattering_Q2min(Enu, mc.m_ups, mc.MA),\n",
    "                    ps.upscattering_Q2max(Enu, mc.m_ups, mc.MA),\n",
    "                    1000)\n",
    "        ax.plot(Q2range, mc.diff_xsec_Q2(Enu=Enu, Q2 = Q2range), label = f'{key}'.replace('_', ' ').replace('flipping','HF').replace('conserving','HC').replace('coherent','coh'))\n",
    "\n",
    "\n",
    "plot_diff_xsec_Q2(mcs_L_150, Enu)\n",
    "plot_diff_xsec_Q2(mcs_L_420, Enu)\n",
    "ax.legend(loc='lower left', ncol=4, frameon=False)\n",
    "ax.set_yscale(\"log\")\n",
    "ax.set_xscale(\"log\")\n",
    "ax.set_xlabel(r\"$Q^2$/GeV$^2$\")\n",
    "ax.set_ylabel(r\"$d\\sigma/dQ^2$ (cm$^2$)\")"
   ]
  },
  {
   "cell_type": "code",
   "execution_count": null,
   "id": "40490272",
   "metadata": {},
   "outputs": [],
   "source": []
  }
 ],
 "metadata": {
  "kernelspec": {
   "display_name": "Python 3.9.12 ('base')",
   "language": "python",
   "name": "python3"
  },
  "language_info": {
   "codemirror_mode": {
    "name": "ipython",
    "version": 3
   },
   "file_extension": ".py",
   "mimetype": "text/x-python",
   "name": "python",
   "nbconvert_exporter": "python",
   "pygments_lexer": "ipython3",
   "version": "3.11.0"
  },
  "vscode": {
   "interpreter": {
    "hash": "3067ead486e059ec00ffe7555bdb889e6e264a24dc711bf108106cc7baee8d5d"
   }
  }
 },
 "nbformat": 4,
 "nbformat_minor": 5
}
